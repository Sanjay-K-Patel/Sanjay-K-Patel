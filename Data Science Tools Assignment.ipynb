{
 "cells": [
  {
   "cell_type": "markdown",
   "id": "340f8580",
   "metadata": {},
   "source": [
    "# Data Science Tools and Ecosystem"
   ]
  },
  {
   "cell_type": "markdown",
   "id": "388905aa",
   "metadata": {},
   "source": [
    "## Introduction \n",
    "This notebook summarizes the tools and ecosystem of data science, providing a concise overview of the subject."
   ]
  },
  {
   "cell_type": "markdown",
   "id": "d5e4cc1a",
   "metadata": {},
   "source": [
    "### Data Science Languages\n",
    "\n",
    "- Python\n",
    "- R\n",
    "- SQL\n",
    "- Julia"
   ]
  },
  {
   "cell_type": "markdown",
   "id": "4dcf3cef",
   "metadata": {},
   "source": [
    "### Data Science Libraries\n",
    "\n",
    "- NumPy\n",
    "- pandas\n",
    "- scikit-learn\n",
    "- TensorFlow\n",
    "- PyTorch\n",
    "- Matplotlib\n",
    "- Seaborn\n",
    "- ggplot\n",
    "- statsmodels\n"
   ]
  },
  {
   "cell_type": "markdown",
   "id": "9082d915",
   "metadata": {},
   "source": [
    "## Data Science Tools\n",
    "| Tool                | Description                               |\n",
    "|---------------------|-------------------------------------------|\n",
    "| Python              | General-purpose programming language       |\n",
    "| R                   | Statistical programming language           |\n",
    "| SQL                 | Query language for managing databases     |\n",
    "| Jupyter Notebook    | Interactive coding environment             |\n",
    "| TensorFlow          | Deep learning library                      |\n",
    "| PyTorch             | Deep learning library                      |\n",
    "| NumPy               | Numerical computing library                |\n",
    "| pandas              | Data manipulation and analysis library     |\n",
    "| scikit-learn        | Machine learning library                   |\n",
    "| Matplotlib          | Data visualization library                 |\n"
   ]
  },
  {
   "cell_type": "markdown",
   "id": "7bdab4dc",
   "metadata": {},
   "source": [
    "### Arithmetic Expression Examples\n",
    "\n",
    "Arithmetic expressions involve mathematical operations and can be evaluated to obtain numerical results. Here are some examples:\n",
    "\n",
    "1. Addition: 5 + 3 = 8\n",
    "2. Subtraction: 10 - 4 = 6\n",
    "3. Multiplication: 2 * 6 = 12\n",
    "4. Division: 15 / 3 = 5\n",
    "5. Exponentiation: 2^4 = 16\n",
    "6. Parentheses: (4 + 2) * 3 = 18\n",
    "\n",
    "These examples demonstrate basic arithmetic operations and the use of parentheses to control the order of evaluation.\n"
   ]
  },
  {
   "cell_type": "code",
   "execution_count": 1,
   "id": "cce8a568",
   "metadata": {},
   "outputs": [
    {
     "name": "stdout",
     "output_type": "stream",
     "text": [
      "Multiplication result: 15\n",
      "Addition result: 8\n"
     ]
    }
   ],
   "source": [
    "# Multiply and add numbers\n",
    "a = 5\n",
    "b = 3\n",
    "c = a * b  # Multiply a and b\n",
    "d = a + b  # Add a and b\n",
    "\n",
    "print(\"Multiplication result:\", c)\n",
    "print(\"Addition result:\", d)\n"
   ]
  },
  {
   "cell_type": "code",
   "execution_count": 2,
   "id": "5232caf6",
   "metadata": {},
   "outputs": [
    {
     "name": "stdout",
     "output_type": "stream",
     "text": [
      "Minutes: 120\n",
      "Hours: 2.0\n"
     ]
    }
   ],
   "source": [
    "# Convert minutes to hours\n",
    "minutes = 120\n",
    "hours = minutes / 60\n",
    "\n",
    "print(\"Minutes:\", minutes)\n",
    "print(\"Hours:\", hours)\n"
   ]
  },
  {
   "cell_type": "markdown",
   "id": "bd047e4e",
   "metadata": {},
   "source": [
    "## The objectives of data science tools are:\n",
    "\n",
    "- Data Manipulation\n",
    "- Data Visualization\n",
    "- Statistical Analysis\n",
    "- Machine Learning\n",
    "- Big Data Processing"
   ]
  },
  {
   "cell_type": "markdown",
   "id": "fb76b2ae",
   "metadata": {},
   "source": [
    "## Author Name\n",
    "Sanjay Kumar Patel"
   ]
  },
  {
   "cell_type": "code",
   "execution_count": null,
   "id": "ebf1a909",
   "metadata": {},
   "outputs": [],
   "source": []
  }
 ],
 "metadata": {
  "kernelspec": {
   "display_name": "Python 3 (ipykernel)",
   "language": "python",
   "name": "python3"
  },
  "language_info": {
   "codemirror_mode": {
    "name": "ipython",
    "version": 3
   },
   "file_extension": ".py",
   "mimetype": "text/x-python",
   "name": "python",
   "nbconvert_exporter": "python",
   "pygments_lexer": "ipython3",
   "version": "3.10.9"
  }
 },
 "nbformat": 4,
 "nbformat_minor": 5
}
